{
 "cells": [
  {
   "cell_type": "code",
   "execution_count": 1,
   "metadata": {},
   "outputs": [],
   "source": [
    "import pandas as pd\n",
    "import matplotlib.pyplot as plt\n",
    "import statsmodels.api as sm"
   ]
  },
  {
   "cell_type": "code",
   "execution_count": 2,
   "metadata": {},
   "outputs": [],
   "source": [
    "#reading the csv file\n",
    "data=pd.read_csv(\"air_quality_pm2.5.csv\")"
   ]
  },
  {
   "cell_type": "code",
   "execution_count": 3,
   "metadata": {},
   "outputs": [
    {
     "data": {
      "text/html": [
       "<div>\n",
       "<style scoped>\n",
       "    .dataframe tbody tr th:only-of-type {\n",
       "        vertical-align: middle;\n",
       "    }\n",
       "\n",
       "    .dataframe tbody tr th {\n",
       "        vertical-align: top;\n",
       "    }\n",
       "\n",
       "    .dataframe thead th {\n",
       "        text-align: right;\n",
       "    }\n",
       "</style>\n",
       "<table border=\"1\" class=\"dataframe\">\n",
       "  <thead>\n",
       "    <tr style=\"text-align: right;\">\n",
       "      <th></th>\n",
       "      <th>year</th>\n",
       "      <th>pollution</th>\n",
       "    </tr>\n",
       "  </thead>\n",
       "  <tbody>\n",
       "    <tr>\n",
       "      <th>0</th>\n",
       "      <td>2008-01</td>\n",
       "      <td>14.7</td>\n",
       "    </tr>\n",
       "    <tr>\n",
       "      <th>1</th>\n",
       "      <td>2008-02</td>\n",
       "      <td>28.8</td>\n",
       "    </tr>\n",
       "    <tr>\n",
       "      <th>2</th>\n",
       "      <td>2008-03</td>\n",
       "      <td>12.3</td>\n",
       "    </tr>\n",
       "    <tr>\n",
       "      <th>3</th>\n",
       "      <td>2008-04</td>\n",
       "      <td>20.5</td>\n",
       "    </tr>\n",
       "    <tr>\n",
       "      <th>4</th>\n",
       "      <td>2008-05</td>\n",
       "      <td>27.5</td>\n",
       "    </tr>\n",
       "  </tbody>\n",
       "</table>\n",
       "</div>"
      ],
      "text/plain": [
       "      year  pollution\n",
       "0  2008-01       14.7\n",
       "1  2008-02       28.8\n",
       "2  2008-03       12.3\n",
       "3  2008-04       20.5\n",
       "4  2008-05       27.5"
      ]
     },
     "execution_count": 3,
     "metadata": {},
     "output_type": "execute_result"
    }
   ],
   "source": [
    "data.drop(\"Unnamed: 0\",axis=1,inplace=True)\n",
    "data.head()"
   ]
  },
  {
   "cell_type": "code",
   "execution_count": 4,
   "metadata": {},
   "outputs": [],
   "source": [
    "data[\"year\"] = pd.to_datetime(data[\"year\"])"
   ]
  },
  {
   "cell_type": "code",
   "execution_count": 5,
   "metadata": {},
   "outputs": [],
   "source": [
    "data.set_index('year',inplace=True)"
   ]
  },
  {
   "cell_type": "code",
   "execution_count": 6,
   "metadata": {},
   "outputs": [
    {
     "data": {
      "text/html": [
       "<div>\n",
       "<style scoped>\n",
       "    .dataframe tbody tr th:only-of-type {\n",
       "        vertical-align: middle;\n",
       "    }\n",
       "\n",
       "    .dataframe tbody tr th {\n",
       "        vertical-align: top;\n",
       "    }\n",
       "\n",
       "    .dataframe thead th {\n",
       "        text-align: right;\n",
       "    }\n",
       "</style>\n",
       "<table border=\"1\" class=\"dataframe\">\n",
       "  <thead>\n",
       "    <tr style=\"text-align: right;\">\n",
       "      <th></th>\n",
       "      <th>pollution</th>\n",
       "    </tr>\n",
       "    <tr>\n",
       "      <th>year</th>\n",
       "      <th></th>\n",
       "    </tr>\n",
       "  </thead>\n",
       "  <tbody>\n",
       "    <tr>\n",
       "      <th>2008-01-01</th>\n",
       "      <td>14.7</td>\n",
       "    </tr>\n",
       "    <tr>\n",
       "      <th>2008-02-01</th>\n",
       "      <td>28.8</td>\n",
       "    </tr>\n",
       "    <tr>\n",
       "      <th>2008-03-01</th>\n",
       "      <td>12.3</td>\n",
       "    </tr>\n",
       "    <tr>\n",
       "      <th>2008-04-01</th>\n",
       "      <td>20.5</td>\n",
       "    </tr>\n",
       "    <tr>\n",
       "      <th>2008-05-01</th>\n",
       "      <td>27.5</td>\n",
       "    </tr>\n",
       "  </tbody>\n",
       "</table>\n",
       "</div>"
      ],
      "text/plain": [
       "            pollution\n",
       "year                 \n",
       "2008-01-01       14.7\n",
       "2008-02-01       28.8\n",
       "2008-03-01       12.3\n",
       "2008-04-01       20.5\n",
       "2008-05-01       27.5"
      ]
     },
     "execution_count": 6,
     "metadata": {},
     "output_type": "execute_result"
    }
   ],
   "source": [
    "data.head()"
   ]
  },
  {
   "cell_type": "code",
   "execution_count": 7,
   "metadata": {},
   "outputs": [
    {
     "data": {
      "text/plain": [
       "<matplotlib.axes._subplots.AxesSubplot at 0x1e15fc55cf8>"
      ]
     },
     "execution_count": 7,
     "metadata": {},
     "output_type": "execute_result"
    },
    {
     "data": {
      "image/png": "[encoded data removed]",
      "text/plain": [
       "<Figure size 432x288 with 1 Axes>"
      ]
     },
     "metadata": {
      "needs_background": "light"
     },
     "output_type": "display_data"
    }
   ],
   "source": [
    "data.plot()"
   ]
  },
  {
   "cell_type": "code",
   "execution_count": 9,
   "metadata": {},
   "outputs": [
    {
     "data": {
      "text/plain": [
       "<matplotlib.legend.Legend at 0x1e161e06438>"
      ]
     },
     "execution_count": 9,
     "metadata": {},
     "output_type": "execute_result"
    },
    {
     "data": {
      "image/png": "[encoded data removed]",
      "text/plain": [
       "<Figure size 432x288 with 1 Axes>"
      ]
     },
     "metadata": {
      "needs_background": "light"
     },
     "output_type": "display_data"
    }
   ],
   "source": [
    "#visualising pollution levels\n",
    "ts = data['pollution']\n",
    "ts.rolling(12).mean().plot(label='12 Month Rolling Mean')\n",
    "ts.rolling(12).std().plot(label='12 Month Rolling Std deviation')\n",
    "plt.legend(loc=\"best\")"
   ]
  },
  {
   "cell_type": "code",
   "execution_count": 10,
   "metadata": {},
   "outputs": [
    {
     "data": {
      "image/png": "[encoded data removed]",
      "text/plain": [
       "<Figure size 432x288 with 4 Axes>"
      ]
     },
     "metadata": {
      "needs_background": "light"
     },
     "output_type": "display_data"
    }
   ],
   "source": [
    "from statsmodels.tsa.seasonal import seasonal_decompose\n",
    "decomposition = seasonal_decompose(data['pollution'])  \n",
    "fig = decomposition.plot() "
   ]
  },
  {
   "cell_type": "code",
   "execution_count": 11,
   "metadata": {},
   "outputs": [],
   "source": [
    "from statsmodels.tsa.stattools import adfuller"
   ]
  },
  {
   "cell_type": "code",
   "execution_count": 12,
   "metadata": {},
   "outputs": [],
   "source": [
    "#Creating function for later use\n",
    "def adf_check(time_series):\n",
    "    \"\"\"\n",
    "    Pass in a time series, returns ADF report\n",
    "    \"\"\"\n",
    "    result = adfuller(time_series)\n",
    "    print('Augmented Dickey-Fuller Test:')\n",
    "    labels = ['ADF Test Statistic','p-value','#Lags Used','Number of Observations Used']\n",
    "\n",
    "    for value,label in zip(result,labels):\n",
    "        print(label+' : '+str(value) )\n",
    "    \n",
    "    if result[1] <= 0.05:\n",
    "        print(\"strong evidence against the null hypothesis, reject the null hypothesis. Data is stationary\")\n",
    "    else:\n",
    "        print(\"weak evidence against null hypothesis, time series is non-stationary \")\n"
   ]
  },
  {
   "cell_type": "code",
   "execution_count": 13,
   "metadata": {},
   "outputs": [
    {
     "name": "stdout",
     "output_type": "stream",
     "text": [
      "Augmented Dickey-Fuller Test:\n",
      "ADF Test Statistic : -1.1478328188315243\n",
      "p-value : 0.6956249294804893\n",
      "#Lags Used : 11\n",
      "Number of Observations Used : 137\n",
      "weak evidence against null hypothesis, time series is non-stationary \n"
     ]
    }
   ],
   "source": [
    "#Check if the time series is Stationary or Not.\n",
    "adf_check(data['pollution'])"
   ]
  },
  {
   "cell_type": "code",
   "execution_count": 14,
   "metadata": {},
   "outputs": [
    {
     "data": {
      "text/plain": [
       "<matplotlib.axes._subplots.AxesSubplot at 0x1e1620596d8>"
      ]
     },
     "execution_count": 14,
     "metadata": {},
     "output_type": "execute_result"
    },
    {
     "data": {
      "image/png": "[encoded data removed]",
      "text/plain": [
       "<Figure size 432x288 with 1 Axes>"
      ]
     },
     "metadata": {
      "needs_background": "light"
     },
     "output_type": "display_data"
    }
   ],
   "source": [
    "#make the time series stationary\n",
    "from statsmodels.tsa.statespace.tools import diff\n",
    "data['pollution First Difference']= diff(data['pollution'],k_diff=1)\n",
    "data[\"pollution First Difference\"].plot()"
   ]
  },
  {
   "cell_type": "code",
   "execution_count": 15,
   "metadata": {},
   "outputs": [
    {
     "name": "stdout",
     "output_type": "stream",
     "text": [
      "Augmented Dickey-Fuller Test:\n",
      "ADF Test Statistic : -9.164236221731276\n",
      "p-value : 2.485501783901825e-15\n",
      "#Lags Used : 10\n",
      "Number of Observations Used : 137\n",
      "strong evidence against the null hypothesis, reject the null hypothesis. Data is stationary\n"
     ]
    }
   ],
   "source": [
    "adf_check(data['pollution First Difference'].dropna())"
   ]
  },
  {
   "cell_type": "code",
   "execution_count": 16,
   "metadata": {},
   "outputs": [
    {
     "data": {
      "text/html": [
       "<div>\n",
       "<style scoped>\n",
       "    .dataframe tbody tr th:only-of-type {\n",
       "        vertical-align: middle;\n",
       "    }\n",
       "\n",
       "    .dataframe tbody tr th {\n",
       "        vertical-align: top;\n",
       "    }\n",
       "\n",
       "    .dataframe thead th {\n",
       "        text-align: right;\n",
       "    }\n",
       "</style>\n",
       "<table border=\"1\" class=\"dataframe\">\n",
       "  <thead>\n",
       "    <tr style=\"text-align: right;\">\n",
       "      <th></th>\n",
       "      <th>pollution</th>\n",
       "      <th>pollution First Difference</th>\n",
       "    </tr>\n",
       "    <tr>\n",
       "      <th>year</th>\n",
       "      <th></th>\n",
       "      <th></th>\n",
       "    </tr>\n",
       "  </thead>\n",
       "  <tbody>\n",
       "    <tr>\n",
       "      <th>2008-01-01</th>\n",
       "      <td>14.7</td>\n",
       "      <td>NaN</td>\n",
       "    </tr>\n",
       "    <tr>\n",
       "      <th>2008-02-01</th>\n",
       "      <td>28.8</td>\n",
       "      <td>14.1</td>\n",
       "    </tr>\n",
       "    <tr>\n",
       "      <th>2008-03-01</th>\n",
       "      <td>12.3</td>\n",
       "      <td>-16.5</td>\n",
       "    </tr>\n",
       "    <tr>\n",
       "      <th>2008-04-01</th>\n",
       "      <td>20.5</td>\n",
       "      <td>8.2</td>\n",
       "    </tr>\n",
       "    <tr>\n",
       "      <th>2008-05-01</th>\n",
       "      <td>27.5</td>\n",
       "      <td>7.0</td>\n",
       "    </tr>\n",
       "  </tbody>\n",
       "</table>\n",
       "</div>"
      ],
      "text/plain": [
       "            pollution  pollution First Difference\n",
       "year                                             \n",
       "2008-01-01       14.7                         NaN\n",
       "2008-02-01       28.8                        14.1\n",
       "2008-03-01       12.3                       -16.5\n",
       "2008-04-01       20.5                         8.2\n",
       "2008-05-01       27.5                         7.0"
      ]
     },
     "execution_count": 16,
     "metadata": {},
     "output_type": "execute_result"
    }
   ],
   "source": [
    "data.head()"
   ]
  },
  {
   "cell_type": "code",
   "execution_count": 17,
   "metadata": {},
   "outputs": [
    {
     "data": {
      "text/html": [
       "<div>\n",
       "<style scoped>\n",
       "    .dataframe tbody tr th:only-of-type {\n",
       "        vertical-align: middle;\n",
       "    }\n",
       "\n",
       "    .dataframe tbody tr th {\n",
       "        vertical-align: top;\n",
       "    }\n",
       "\n",
       "    .dataframe thead th {\n",
       "        text-align: right;\n",
       "    }\n",
       "</style>\n",
       "<table border=\"1\" class=\"dataframe\">\n",
       "  <thead>\n",
       "    <tr style=\"text-align: right;\">\n",
       "      <th></th>\n",
       "      <th>pollution</th>\n",
       "      <th>pollution First Difference</th>\n",
       "      <th>Seasonal Difference</th>\n",
       "    </tr>\n",
       "    <tr>\n",
       "      <th>year</th>\n",
       "      <th></th>\n",
       "      <th></th>\n",
       "      <th></th>\n",
       "    </tr>\n",
       "  </thead>\n",
       "  <tbody>\n",
       "    <tr>\n",
       "      <th>2008-01-01</th>\n",
       "      <td>14.7</td>\n",
       "      <td>NaN</td>\n",
       "      <td>NaN</td>\n",
       "    </tr>\n",
       "    <tr>\n",
       "      <th>2008-02-01</th>\n",
       "      <td>28.8</td>\n",
       "      <td>14.1</td>\n",
       "      <td>NaN</td>\n",
       "    </tr>\n",
       "    <tr>\n",
       "      <th>2008-03-01</th>\n",
       "      <td>12.3</td>\n",
       "      <td>-16.5</td>\n",
       "      <td>NaN</td>\n",
       "    </tr>\n",
       "    <tr>\n",
       "      <th>2008-04-01</th>\n",
       "      <td>20.5</td>\n",
       "      <td>8.2</td>\n",
       "      <td>NaN</td>\n",
       "    </tr>\n",
       "    <tr>\n",
       "      <th>2008-05-01</th>\n",
       "      <td>27.5</td>\n",
       "      <td>7.0</td>\n",
       "      <td>NaN</td>\n",
       "    </tr>\n",
       "    <tr>\n",
       "      <th>2008-06-01</th>\n",
       "      <td>16.0</td>\n",
       "      <td>-11.5</td>\n",
       "      <td>NaN</td>\n",
       "    </tr>\n",
       "    <tr>\n",
       "      <th>2008-07-01</th>\n",
       "      <td>14.2</td>\n",
       "      <td>-1.8</td>\n",
       "      <td>NaN</td>\n",
       "    </tr>\n",
       "    <tr>\n",
       "      <th>2008-08-01</th>\n",
       "      <td>11.5</td>\n",
       "      <td>-2.7</td>\n",
       "      <td>NaN</td>\n",
       "    </tr>\n",
       "    <tr>\n",
       "      <th>2008-09-01</th>\n",
       "      <td>18.0</td>\n",
       "      <td>6.5</td>\n",
       "      <td>NaN</td>\n",
       "    </tr>\n",
       "    <tr>\n",
       "      <th>2008-10-01</th>\n",
       "      <td>12.9</td>\n",
       "      <td>-5.1</td>\n",
       "      <td>NaN</td>\n",
       "    </tr>\n",
       "    <tr>\n",
       "      <th>2008-11-01</th>\n",
       "      <td>14.7</td>\n",
       "      <td>1.8</td>\n",
       "      <td>NaN</td>\n",
       "    </tr>\n",
       "    <tr>\n",
       "      <th>2008-12-01</th>\n",
       "      <td>20.5</td>\n",
       "      <td>5.8</td>\n",
       "      <td>NaN</td>\n",
       "    </tr>\n",
       "    <tr>\n",
       "      <th>2009-01-01</th>\n",
       "      <td>23.2</td>\n",
       "      <td>2.7</td>\n",
       "      <td>8.5</td>\n",
       "    </tr>\n",
       "    <tr>\n",
       "      <th>2009-02-01</th>\n",
       "      <td>19.1</td>\n",
       "      <td>-4.1</td>\n",
       "      <td>-9.7</td>\n",
       "    </tr>\n",
       "    <tr>\n",
       "      <th>2009-03-01</th>\n",
       "      <td>19.7</td>\n",
       "      <td>0.6</td>\n",
       "      <td>7.4</td>\n",
       "    </tr>\n",
       "    <tr>\n",
       "      <th>2009-04-01</th>\n",
       "      <td>26.1</td>\n",
       "      <td>6.4</td>\n",
       "      <td>5.6</td>\n",
       "    </tr>\n",
       "    <tr>\n",
       "      <th>2009-05-01</th>\n",
       "      <td>14.3</td>\n",
       "      <td>-11.8</td>\n",
       "      <td>-13.2</td>\n",
       "    </tr>\n",
       "    <tr>\n",
       "      <th>2009-06-01</th>\n",
       "      <td>15.9</td>\n",
       "      <td>1.6</td>\n",
       "      <td>-0.1</td>\n",
       "    </tr>\n",
       "    <tr>\n",
       "      <th>2009-07-01</th>\n",
       "      <td>11.2</td>\n",
       "      <td>-4.7</td>\n",
       "      <td>-3.0</td>\n",
       "    </tr>\n",
       "    <tr>\n",
       "      <th>2009-08-01</th>\n",
       "      <td>13.3</td>\n",
       "      <td>2.1</td>\n",
       "      <td>1.8</td>\n",
       "    </tr>\n",
       "  </tbody>\n",
       "</table>\n",
       "</div>"
      ],
      "text/plain": [
       "            pollution  pollution First Difference  Seasonal Difference\n",
       "year                                                                  \n",
       "2008-01-01       14.7                         NaN                  NaN\n",
       "2008-02-01       28.8                        14.1                  NaN\n",
       "2008-03-01       12.3                       -16.5                  NaN\n",
       "2008-04-01       20.5                         8.2                  NaN\n",
       "2008-05-01       27.5                         7.0                  NaN\n",
       "2008-06-01       16.0                       -11.5                  NaN\n",
       "2008-07-01       14.2                        -1.8                  NaN\n",
       "2008-08-01       11.5                        -2.7                  NaN\n",
       "2008-09-01       18.0                         6.5                  NaN\n",
       "2008-10-01       12.9                        -5.1                  NaN\n",
       "2008-11-01       14.7                         1.8                  NaN\n",
       "2008-12-01       20.5                         5.8                  NaN\n",
       "2009-01-01       23.2                         2.7                  8.5\n",
       "2009-02-01       19.1                        -4.1                 -9.7\n",
       "2009-03-01       19.7                         0.6                  7.4\n",
       "2009-04-01       26.1                         6.4                  5.6\n",
       "2009-05-01       14.3                       -11.8                -13.2\n",
       "2009-06-01       15.9                         1.6                 -0.1\n",
       "2009-07-01       11.2                        -4.7                 -3.0\n",
       "2009-08-01       13.3                         2.1                  1.8"
      ]
     },
     "execution_count": 17,
     "metadata": {},
     "output_type": "execute_result"
    }
   ],
   "source": [
    "data['Seasonal Difference'] = data['pollution'] - data['pollution'].shift(12)\n",
    "data.head(20)"
   ]
  },
  {
   "cell_type": "code",
   "execution_count": 18,
   "metadata": {},
   "outputs": [
    {
     "data": {
      "text/plain": [
       "<matplotlib.axes._subplots.AxesSubplot at 0x1e1620d86d8>"
      ]
     },
     "execution_count": 18,
     "metadata": {},
     "output_type": "execute_result"
    },
    {
     "data": {
      "image/png": "[encoded data removed]",
      "text/plain": [
       "<Figure size 432x288 with 1 Axes>"
      ]
     },
     "metadata": {
      "needs_background": "light"
     },
     "output_type": "display_data"
    }
   ],
   "source": [
    "data['Seasonal Difference'].plot()"
   ]
  },
  {
   "cell_type": "code",
   "execution_count": 19,
   "metadata": {},
   "outputs": [
    {
     "name": "stdout",
     "output_type": "stream",
     "text": [
      "Augmented Dickey-Fuller Test:\n",
      "ADF Test Statistic : -6.3721495595849795\n",
      "p-value : 2.330816070786676e-08\n",
      "#Lags Used : 12\n",
      "Number of Observations Used : 124\n",
      "strong evidence against the null hypothesis, reject the null hypothesis. Data is stationary\n"
     ]
    }
   ],
   "source": [
    "adf_check(data['Seasonal Difference'].dropna())"
   ]
  },
  {
   "cell_type": "code",
   "execution_count": 20,
   "metadata": {},
   "outputs": [
    {
     "data": {
      "text/html": [
       "<div>\n",
       "<style scoped>\n",
       "    .dataframe tbody tr th:only-of-type {\n",
       "        vertical-align: middle;\n",
       "    }\n",
       "\n",
       "    .dataframe tbody tr th {\n",
       "        vertical-align: top;\n",
       "    }\n",
       "\n",
       "    .dataframe thead th {\n",
       "        text-align: right;\n",
       "    }\n",
       "</style>\n",
       "<table border=\"1\" class=\"dataframe\">\n",
       "  <thead>\n",
       "    <tr style=\"text-align: right;\">\n",
       "      <th></th>\n",
       "      <th>pollution</th>\n",
       "      <th>pollution First Difference</th>\n",
       "      <th>Seasonal Difference</th>\n",
       "      <th>Seasonal First Difference</th>\n",
       "    </tr>\n",
       "    <tr>\n",
       "      <th>year</th>\n",
       "      <th></th>\n",
       "      <th></th>\n",
       "      <th></th>\n",
       "      <th></th>\n",
       "    </tr>\n",
       "  </thead>\n",
       "  <tbody>\n",
       "    <tr>\n",
       "      <th>2008-01-01</th>\n",
       "      <td>14.7</td>\n",
       "      <td>NaN</td>\n",
       "      <td>NaN</td>\n",
       "      <td>NaN</td>\n",
       "    </tr>\n",
       "    <tr>\n",
       "      <th>2008-02-01</th>\n",
       "      <td>28.8</td>\n",
       "      <td>14.1</td>\n",
       "      <td>NaN</td>\n",
       "      <td>NaN</td>\n",
       "    </tr>\n",
       "    <tr>\n",
       "      <th>2008-03-01</th>\n",
       "      <td>12.3</td>\n",
       "      <td>-16.5</td>\n",
       "      <td>NaN</td>\n",
       "      <td>NaN</td>\n",
       "    </tr>\n",
       "    <tr>\n",
       "      <th>2008-04-01</th>\n",
       "      <td>20.5</td>\n",
       "      <td>8.2</td>\n",
       "      <td>NaN</td>\n",
       "      <td>NaN</td>\n",
       "    </tr>\n",
       "    <tr>\n",
       "      <th>2008-05-01</th>\n",
       "      <td>27.5</td>\n",
       "      <td>7.0</td>\n",
       "      <td>NaN</td>\n",
       "      <td>NaN</td>\n",
       "    </tr>\n",
       "    <tr>\n",
       "      <th>2008-06-01</th>\n",
       "      <td>16.0</td>\n",
       "      <td>-11.5</td>\n",
       "      <td>NaN</td>\n",
       "      <td>NaN</td>\n",
       "    </tr>\n",
       "    <tr>\n",
       "      <th>2008-07-01</th>\n",
       "      <td>14.2</td>\n",
       "      <td>-1.8</td>\n",
       "      <td>NaN</td>\n",
       "      <td>NaN</td>\n",
       "    </tr>\n",
       "    <tr>\n",
       "      <th>2008-08-01</th>\n",
       "      <td>11.5</td>\n",
       "      <td>-2.7</td>\n",
       "      <td>NaN</td>\n",
       "      <td>NaN</td>\n",
       "    </tr>\n",
       "    <tr>\n",
       "      <th>2008-09-01</th>\n",
       "      <td>18.0</td>\n",
       "      <td>6.5</td>\n",
       "      <td>NaN</td>\n",
       "      <td>NaN</td>\n",
       "    </tr>\n",
       "    <tr>\n",
       "      <th>2008-10-01</th>\n",
       "      <td>12.9</td>\n",
       "      <td>-5.1</td>\n",
       "      <td>NaN</td>\n",
       "      <td>NaN</td>\n",
       "    </tr>\n",
       "    <tr>\n",
       "      <th>2008-11-01</th>\n",
       "      <td>14.7</td>\n",
       "      <td>1.8</td>\n",
       "      <td>NaN</td>\n",
       "      <td>NaN</td>\n",
       "    </tr>\n",
       "    <tr>\n",
       "      <th>2008-12-01</th>\n",
       "      <td>20.5</td>\n",
       "      <td>5.8</td>\n",
       "      <td>NaN</td>\n",
       "      <td>NaN</td>\n",
       "    </tr>\n",
       "    <tr>\n",
       "      <th>2009-01-01</th>\n",
       "      <td>23.2</td>\n",
       "      <td>2.7</td>\n",
       "      <td>8.5</td>\n",
       "      <td>NaN</td>\n",
       "    </tr>\n",
       "    <tr>\n",
       "      <th>2009-02-01</th>\n",
       "      <td>19.1</td>\n",
       "      <td>-4.1</td>\n",
       "      <td>-9.7</td>\n",
       "      <td>-18.2</td>\n",
       "    </tr>\n",
       "    <tr>\n",
       "      <th>2009-03-01</th>\n",
       "      <td>19.7</td>\n",
       "      <td>0.6</td>\n",
       "      <td>7.4</td>\n",
       "      <td>17.1</td>\n",
       "    </tr>\n",
       "    <tr>\n",
       "      <th>2009-04-01</th>\n",
       "      <td>26.1</td>\n",
       "      <td>6.4</td>\n",
       "      <td>5.6</td>\n",
       "      <td>-1.8</td>\n",
       "    </tr>\n",
       "    <tr>\n",
       "      <th>2009-05-01</th>\n",
       "      <td>14.3</td>\n",
       "      <td>-11.8</td>\n",
       "      <td>-13.2</td>\n",
       "      <td>-18.8</td>\n",
       "    </tr>\n",
       "    <tr>\n",
       "      <th>2009-06-01</th>\n",
       "      <td>15.9</td>\n",
       "      <td>1.6</td>\n",
       "      <td>-0.1</td>\n",
       "      <td>13.1</td>\n",
       "    </tr>\n",
       "    <tr>\n",
       "      <th>2009-07-01</th>\n",
       "      <td>11.2</td>\n",
       "      <td>-4.7</td>\n",
       "      <td>-3.0</td>\n",
       "      <td>-2.9</td>\n",
       "    </tr>\n",
       "    <tr>\n",
       "      <th>2009-08-01</th>\n",
       "      <td>13.3</td>\n",
       "      <td>2.1</td>\n",
       "      <td>1.8</td>\n",
       "      <td>4.8</td>\n",
       "    </tr>\n",
       "  </tbody>\n",
       "</table>\n",
       "</div>"
      ],
      "text/plain": [
       "            pollution  pollution First Difference  Seasonal Difference  \\\n",
       "year                                                                     \n",
       "2008-01-01       14.7                         NaN                  NaN   \n",
       "2008-02-01       28.8                        14.1                  NaN   \n",
       "2008-03-01       12.3                       -16.5                  NaN   \n",
       "2008-04-01       20.5                         8.2                  NaN   \n",
       "2008-05-01       27.5                         7.0                  NaN   \n",
       "2008-06-01       16.0                       -11.5                  NaN   \n",
       "2008-07-01       14.2                        -1.8                  NaN   \n",
       "2008-08-01       11.5                        -2.7                  NaN   \n",
       "2008-09-01       18.0                         6.5                  NaN   \n",
       "2008-10-01       12.9                        -5.1                  NaN   \n",
       "2008-11-01       14.7                         1.8                  NaN   \n",
       "2008-12-01       20.5                         5.8                  NaN   \n",
       "2009-01-01       23.2                         2.7                  8.5   \n",
       "2009-02-01       19.1                        -4.1                 -9.7   \n",
       "2009-03-01       19.7                         0.6                  7.4   \n",
       "2009-04-01       26.1                         6.4                  5.6   \n",
       "2009-05-01       14.3                       -11.8                -13.2   \n",
       "2009-06-01       15.9                         1.6                 -0.1   \n",
       "2009-07-01       11.2                        -4.7                 -3.0   \n",
       "2009-08-01       13.3                         2.1                  1.8   \n",
       "\n",
       "            Seasonal First Difference  \n",
       "year                                   \n",
       "2008-01-01                        NaN  \n",
       "2008-02-01                        NaN  \n",
       "2008-03-01                        NaN  \n",
       "2008-04-01                        NaN  \n",
       "2008-05-01                        NaN  \n",
       "2008-06-01                        NaN  \n",
       "2008-07-01                        NaN  \n",
       "2008-08-01                        NaN  \n",
       "2008-09-01                        NaN  \n",
       "2008-10-01                        NaN  \n",
       "2008-11-01                        NaN  \n",
       "2008-12-01                        NaN  \n",
       "2009-01-01                        NaN  \n",
       "2009-02-01                      -18.2  \n",
       "2009-03-01                       17.1  \n",
       "2009-04-01                       -1.8  \n",
       "2009-05-01                      -18.8  \n",
       "2009-06-01                       13.1  \n",
       "2009-07-01                       -2.9  \n",
       "2009-08-01                        4.8  "
      ]
     },
     "execution_count": 20,
     "metadata": {},
     "output_type": "execute_result"
    }
   ],
   "source": [
    "data['Seasonal First Difference'] = data['pollution First Difference'] - data['pollution First Difference'].shift(12)\n",
    "data.head(20)"
   ]
  },
  {
   "cell_type": "code",
   "execution_count": 21,
   "metadata": {},
   "outputs": [
    {
     "data": {
      "text/plain": [
       "<matplotlib.axes._subplots.AxesSubplot at 0x1e1620c2240>"
      ]
     },
     "execution_count": 21,
     "metadata": {},
     "output_type": "execute_result"
    },
    {
     "data": {
      "image/png": "[encoded data removed]",
      "text/plain": [
       "<Figure size 432x288 with 1 Axes>"
      ]
     },
     "metadata": {
      "needs_background": "light"
     },
     "output_type": "display_data"
    }
   ],
   "source": [
    "data['Seasonal First Difference'].plot()"
   ]
  },
  {
   "cell_type": "code",
   "execution_count": 22,
   "metadata": {},
   "outputs": [
    {
     "name": "stdout",
     "output_type": "stream",
     "text": [
      "Augmented Dickey-Fuller Test:\n",
      "ADF Test Statistic : -4.928242657557876\n",
      "p-value : 3.0718544230738715e-05\n",
      "#Lags Used : 13\n",
      "Number of Observations Used : 122\n",
      "strong evidence against the null hypothesis, reject the null hypothesis. Data is stationary\n"
     ]
    }
   ],
   "source": [
    "adf_check(data['Seasonal First Difference'].dropna())\n"
   ]
  },
  {
   "cell_type": "code",
   "execution_count": 23,
   "metadata": {},
   "outputs": [],
   "source": [
    "from pmdarima import auto_arima"
   ]
  },
  {
   "cell_type": "code",
   "execution_count": 24,
   "metadata": {},
   "outputs": [
    {
     "name": "stdout",
     "output_type": "stream",
     "text": [
      "Fit ARIMA: order=(0, 1, 0) seasonal_order=(0, 2, 0, 12); AIC=968.017, BIC=973.658, Fit time=0.739 seconds\n",
      "Fit ARIMA: order=(1, 1, 0) seasonal_order=(1, 2, 0, 12); AIC=887.747, BIC=899.028, Fit time=0.541 seconds\n",
      "Fit ARIMA: order=(0, 1, 1) seasonal_order=(0, 2, 1, 12); AIC=nan, BIC=nan, Fit time=nan seconds\n",
      "Fit ARIMA: order=(1, 1, 0) seasonal_order=(0, 2, 0, 12); AIC=938.663, BIC=947.124, Fit time=0.144 seconds\n",
      "Fit ARIMA: order=(1, 1, 0) seasonal_order=(2, 2, 0, 12); AIC=860.812, BIC=874.913, Fit time=1.515 seconds\n",
      "Fit ARIMA: order=(1, 1, 0) seasonal_order=(2, 2, 1, 12); AIC=840.284, BIC=857.206, Fit time=1.893 seconds\n",
      "Fit ARIMA: order=(1, 1, 0) seasonal_order=(3, 2, 2, 12); AIC=841.818, BIC=864.380, Fit time=6.171 seconds\n",
      "Fit ARIMA: order=(0, 1, 0) seasonal_order=(2, 2, 1, 12); AIC=872.356, BIC=886.458, Fit time=1.493 seconds\n",
      "Fit ARIMA: order=(2, 1, 0) seasonal_order=(2, 2, 1, 12); AIC=829.174, BIC=848.916, Fit time=2.945 seconds\n",
      "Fit ARIMA: order=(2, 1, 1) seasonal_order=(2, 2, 1, 12); AIC=nan, BIC=nan, Fit time=nan seconds\n",
      "Fit ARIMA: order=(3, 1, 1) seasonal_order=(2, 2, 1, 12); AIC=805.306, BIC=830.689, Fit time=7.003 seconds\n",
      "Fit ARIMA: order=(3, 1, 1) seasonal_order=(1, 2, 1, 12); AIC=804.291, BIC=826.854, Fit time=2.971 seconds\n",
      "Fit ARIMA: order=(3, 1, 1) seasonal_order=(1, 2, 0, 12); AIC=846.507, BIC=866.249, Fit time=2.812 seconds\n",
      "Fit ARIMA: order=(3, 1, 1) seasonal_order=(1, 2, 2, 12); AIC=nan, BIC=nan, Fit time=nan seconds\n",
      "Fit ARIMA: order=(3, 1, 1) seasonal_order=(0, 2, 0, 12); AIC=910.583, BIC=927.505, Fit time=1.125 seconds\n",
      "Fit ARIMA: order=(3, 1, 1) seasonal_order=(2, 2, 2, 12); AIC=805.780, BIC=833.982, Fit time=7.723 seconds\n",
      "Fit ARIMA: order=(2, 1, 1) seasonal_order=(1, 2, 1, 12); AIC=nan, BIC=nan, Fit time=nan seconds\n",
      "Fit ARIMA: order=(4, 1, 1) seasonal_order=(1, 2, 1, 12); AIC=806.086, BIC=831.469, Fit time=4.061 seconds\n",
      "Fit ARIMA: order=(3, 1, 0) seasonal_order=(1, 2, 1, 12); AIC=821.434, BIC=841.176, Fit time=2.291 seconds\n",
      "Fit ARIMA: order=(3, 1, 2) seasonal_order=(1, 2, 1, 12); AIC=806.283, BIC=831.665, Fit time=3.590 seconds\n",
      "Fit ARIMA: order=(2, 1, 0) seasonal_order=(1, 2, 1, 12); AIC=829.806, BIC=846.728, Fit time=2.137 seconds\n",
      "Fit ARIMA: order=(4, 1, 2) seasonal_order=(1, 2, 1, 12); AIC=nan, BIC=nan, Fit time=nan seconds\n",
      "Fit ARIMA: order=(3, 1, 1) seasonal_order=(0, 2, 1, 12); AIC=nan, BIC=nan, Fit time=nan seconds\n",
      "Total fit time: 49.185 seconds\n"
     ]
    }
   ],
   "source": [
    "stepwise_fit = auto_arima(data['pollution'], start_p=0, start_q=0,\n",
    "                          max_d = 2,max_p=4, max_q=4, m=12,start_P=0,start_Q=0,\n",
    "                          max_P=4, D=2, max_Q=4,max_D=3,\n",
    "                          seasonal=True,\n",
    "                          d=1, trace=True,\n",
    "                          error_action='ignore',   # we don't want to know if an order does not work\n",
    "                          suppress_warnings=True,  # we don't want convergence warnings\n",
    "                          stepwise=True) "
   ]
  },
  {
   "cell_type": "code",
   "execution_count": 25,
   "metadata": {},
   "outputs": [
    {
     "data": {
      "text/html": [
       "<table class=\"simpletable\">\n",
       "<caption>Statespace Model Results</caption>\n",
       "<tr>\n",
       "  <th>Dep. Variable:</th>                  <td>y</td>               <th>  No. Observations:  </th>    <td>149</td>  \n",
       "</tr>\n",
       "<tr>\n",
       "  <th>Model:</th>           <td>SARIMAX(3, 1, 1)x(1, 2, 1, 12)</td> <th>  Log Likelihood     </th> <td>-394.146</td>\n",
       "</tr>\n",
       "<tr>\n",
       "  <th>Date:</th>                   <td>Wed, 26 Aug 2020</td>        <th>  AIC                </th>  <td>804.291</td>\n",
       "</tr>\n",
       "<tr>\n",
       "  <th>Time:</th>                       <td>14:51:45</td>            <th>  BIC                </th>  <td>826.854</td>\n",
       "</tr>\n",
       "<tr>\n",
       "  <th>Sample:</th>                         <td>0</td>               <th>  HQIC               </th>  <td>813.457</td>\n",
       "</tr>\n",
       "<tr>\n",
       "  <th></th>                             <td> - 149</td>             <th>                     </th>     <td> </td>   \n",
       "</tr>\n",
       "<tr>\n",
       "  <th>Covariance Type:</th>               <td>opg</td>              <th>                     </th>     <td> </td>   \n",
       "</tr>\n",
       "</table>\n",
       "<table class=\"simpletable\">\n",
       "<tr>\n",
       "      <td></td>         <th>coef</th>     <th>std err</th>      <th>z</th>      <th>P>|z|</th>  <th>[0.025</th>    <th>0.975]</th>  \n",
       "</tr>\n",
       "<tr>\n",
       "  <th>intercept</th> <td>    0.0025</td> <td>    0.015</td> <td>    0.160</td> <td> 0.873</td> <td>   -0.028</td> <td>    0.033</td>\n",
       "</tr>\n",
       "<tr>\n",
       "  <th>ar.L1</th>     <td>   -0.0178</td> <td>    0.106</td> <td>   -0.168</td> <td> 0.866</td> <td>   -0.225</td> <td>    0.190</td>\n",
       "</tr>\n",
       "<tr>\n",
       "  <th>ar.L2</th>     <td>   -0.0060</td> <td>    0.107</td> <td>   -0.056</td> <td> 0.955</td> <td>   -0.215</td> <td>    0.203</td>\n",
       "</tr>\n",
       "<tr>\n",
       "  <th>ar.L3</th>     <td>   -0.0114</td> <td>    0.124</td> <td>   -0.092</td> <td> 0.926</td> <td>   -0.254</td> <td>    0.231</td>\n",
       "</tr>\n",
       "<tr>\n",
       "  <th>ma.L1</th>     <td>   -0.9996</td> <td>    9.441</td> <td>   -0.106</td> <td> 0.916</td> <td>  -19.504</td> <td>   17.504</td>\n",
       "</tr>\n",
       "<tr>\n",
       "  <th>ar.S.L12</th>  <td>   -0.4167</td> <td>    0.095</td> <td>   -4.376</td> <td> 0.000</td> <td>   -0.603</td> <td>   -0.230</td>\n",
       "</tr>\n",
       "<tr>\n",
       "  <th>ma.S.L12</th>  <td>   -0.9996</td> <td>   76.731</td> <td>   -0.013</td> <td> 0.990</td> <td> -151.389</td> <td>  149.389</td>\n",
       "</tr>\n",
       "<tr>\n",
       "  <th>sigma2</th>    <td>   23.0956</td> <td> 1824.138</td> <td>    0.013</td> <td> 0.990</td> <td>-3552.150</td> <td> 3598.341</td>\n",
       "</tr>\n",
       "</table>\n",
       "<table class=\"simpletable\">\n",
       "<tr>\n",
       "  <th>Ljung-Box (Q):</th>          <td>38.26</td> <th>  Jarque-Bera (JB):  </th> <td>0.12</td>\n",
       "</tr>\n",
       "<tr>\n",
       "  <th>Prob(Q):</th>                <td>0.55</td>  <th>  Prob(JB):          </th> <td>0.94</td>\n",
       "</tr>\n",
       "<tr>\n",
       "  <th>Heteroskedasticity (H):</th> <td>0.54</td>  <th>  Skew:              </th> <td>0.03</td>\n",
       "</tr>\n",
       "<tr>\n",
       "  <th>Prob(H) (two-sided):</th>    <td>0.05</td>  <th>  Kurtosis:          </th> <td>3.14</td>\n",
       "</tr>\n",
       "</table><br/><br/>Warnings:<br/>[1] Covariance matrix calculated using the outer product of gradients (complex-step)."
      ],
      "text/plain": [
       "<class 'statsmodels.iolib.summary.Summary'>\n",
       "\"\"\"\n",
       "                                 Statespace Model Results                                 \n",
       "==========================================================================================\n",
       "Dep. Variable:                                  y   No. Observations:                  149\n",
       "Model:             SARIMAX(3, 1, 1)x(1, 2, 1, 12)   Log Likelihood                -394.146\n",
       "Date:                            Wed, 26 Aug 2020   AIC                            804.291\n",
       "Time:                                    14:51:45   BIC                            826.854\n",
       "Sample:                                         0   HQIC                           813.457\n",
       "                                            - 149                                         \n",
       "Covariance Type:                              opg                                         \n",
       "==============================================================================\n",
       "                 coef    std err          z      P>|z|      [0.025      0.975]\n",
       "------------------------------------------------------------------------------\n",
       "intercept      0.0025      0.015      0.160      0.873      -0.028       0.033\n",
       "ar.L1         -0.0178      0.106     -0.168      0.866      -0.225       0.190\n",
       "ar.L2         -0.0060      0.107     -0.056      0.955      -0.215       0.203\n",
       "ar.L3         -0.0114      0.124     -0.092      0.926      -0.254       0.231\n",
       "ma.L1         -0.9996      9.441     -0.106      0.916     -19.504      17.504\n",
       "ar.S.L12      -0.4167      0.095     -4.376      0.000      -0.603      -0.230\n",
       "ma.S.L12      -0.9996     76.731     -0.013      0.990    -151.389     149.389\n",
       "sigma2        23.0956   1824.138      0.013      0.990   -3552.150    3598.341\n",
       "===================================================================================\n",
       "Ljung-Box (Q):                       38.26   Jarque-Bera (JB):                 0.12\n",
       "Prob(Q):                              0.55   Prob(JB):                         0.94\n",
       "Heteroskedasticity (H):               0.54   Skew:                             0.03\n",
       "Prob(H) (two-sided):                  0.05   Kurtosis:                         3.14\n",
       "===================================================================================\n",
       "\n",
       "Warnings:\n",
       "[1] Covariance matrix calculated using the outer product of gradients (complex-step).\n",
       "\"\"\""
      ]
     },
     "execution_count": 25,
     "metadata": {},
     "output_type": "execute_result"
    }
   ],
   "source": [
    "stepwise_fit.summary()"
   ]
  },
  {
   "cell_type": "code",
   "execution_count": 26,
   "metadata": {},
   "outputs": [
    {
     "name": "stderr",
     "output_type": "stream",
     "text": [
      "C:\\Users\\Admin\\Anaconda3\\lib\\site-packages\\statsmodels\\tsa\\base\\tsa_model.py:171: ValueWarning: No frequency information was provided, so inferred frequency MS will be used.\n",
      "  % freq, ValueWarning)\n"
     ]
    }
   ],
   "source": [
    "model = sm.tsa.statespace.SARIMAX(data['pollution'],order=(3,1,1), seasonal_order=(1,2,1,12))\n",
    "results = model.fit()"
   ]
  },
  {
   "cell_type": "code",
   "execution_count": 27,
   "metadata": {},
   "outputs": [
    {
     "name": "stdout",
     "output_type": "stream",
     "text": [
      "                                 Statespace Model Results                                 \n",
      "==========================================================================================\n",
      "Dep. Variable:                          pollution   No. Observations:                  149\n",
      "Model:             SARIMAX(3, 1, 1)x(1, 2, 1, 12)   Log Likelihood                -394.192\n",
      "Date:                            Wed, 26 Aug 2020   AIC                            802.384\n",
      "Time:                                    14:52:35   BIC                            822.126\n",
      "Sample:                                01-01-2008   HQIC                           810.404\n",
      "                                     - 05-01-2020                                         \n",
      "Covariance Type:                              opg                                         \n",
      "==============================================================================\n",
      "                 coef    std err          z      P>|z|      [0.025      0.975]\n",
      "------------------------------------------------------------------------------\n",
      "ar.L1         -0.0172      0.100     -0.173      0.863      -0.213       0.178\n",
      "ar.L2         -0.0041      0.106     -0.039      0.969      -0.211       0.203\n",
      "ar.L3         -0.0105      0.122     -0.086      0.932      -0.250       0.229\n",
      "ma.L1         -0.9996      8.068     -0.124      0.901     -16.812      14.813\n",
      "ar.S.L12      -0.4143      0.096     -4.327      0.000      -0.602      -0.227\n",
      "ma.S.L12      -0.9996     61.093     -0.016      0.987    -120.740     118.741\n",
      "sigma2        23.1380   1378.983      0.017      0.987   -2679.620    2725.896\n",
      "===================================================================================\n",
      "Ljung-Box (Q):                       37.85   Jarque-Bera (JB):                 0.14\n",
      "Prob(Q):                              0.57   Prob(JB):                         0.93\n",
      "Heteroskedasticity (H):               0.53   Skew:                             0.01\n",
      "Prob(H) (two-sided):                  0.05   Kurtosis:                         3.16\n",
      "===================================================================================\n",
      "\n",
      "Warnings:\n",
      "[1] Covariance matrix calculated using the outer product of gradients (complex-step).\n"
     ]
    }
   ],
   "source": [
    "print(results.summary())"
   ]
  },
  {
   "cell_type": "code",
   "execution_count": 28,
   "metadata": {},
   "outputs": [],
   "source": [
    "prediction= results.predict(start = 0, end= 203)  \n",
    "prediction.to_csv(\"pm2.5_predicted_pollution.csv\")"
   ]
  },
  {
   "cell_type": "code",
   "execution_count": 30,
   "metadata": {},
   "outputs": [
    {
     "data": {
      "text/html": [
       "<div>\n",
       "<style scoped>\n",
       "    .dataframe tbody tr th:only-of-type {\n",
       "        vertical-align: middle;\n",
       "    }\n",
       "\n",
       "    .dataframe tbody tr th {\n",
       "        vertical-align: top;\n",
       "    }\n",
       "\n",
       "    .dataframe thead th {\n",
       "        text-align: right;\n",
       "    }\n",
       "</style>\n",
       "<table border=\"1\" class=\"dataframe\">\n",
       "  <thead>\n",
       "    <tr style=\"text-align: right;\">\n",
       "      <th></th>\n",
       "      <th>2008-01-01</th>\n",
       "      <th>0.0</th>\n",
       "    </tr>\n",
       "  </thead>\n",
       "  <tbody>\n",
       "    <tr>\n",
       "      <th>0</th>\n",
       "      <td>2008-02-01</td>\n",
       "      <td>14.699601</td>\n",
       "    </tr>\n",
       "    <tr>\n",
       "      <th>1</th>\n",
       "      <td>2008-03-01</td>\n",
       "      <td>28.799434</td>\n",
       "    </tr>\n",
       "    <tr>\n",
       "      <th>2</th>\n",
       "      <td>2008-04-01</td>\n",
       "      <td>12.300676</td>\n",
       "    </tr>\n",
       "    <tr>\n",
       "      <th>3</th>\n",
       "      <td>2008-05-01</td>\n",
       "      <td>20.499648</td>\n",
       "    </tr>\n",
       "    <tr>\n",
       "      <th>4</th>\n",
       "      <td>2008-06-01</td>\n",
       "      <td>27.499739</td>\n",
       "    </tr>\n",
       "  </tbody>\n",
       "</table>\n",
       "</div>"
      ],
      "text/plain": [
       "   2008-01-01        0.0\n",
       "0  2008-02-01  14.699601\n",
       "1  2008-03-01  28.799434\n",
       "2  2008-04-01  12.300676\n",
       "3  2008-05-01  20.499648\n",
       "4  2008-06-01  27.499739"
      ]
     },
     "execution_count": 30,
     "metadata": {},
     "output_type": "execute_result"
    }
   ],
   "source": [
    "predict=pd.read_csv(\"pm2.5_predicted_pollution.csv\")\n",
    "predict.head()"
   ]
  },
  {
   "cell_type": "code",
   "execution_count": 31,
   "metadata": {},
   "outputs": [
    {
     "data": {
      "text/html": [
       "<div>\n",
       "<style scoped>\n",
       "    .dataframe tbody tr th:only-of-type {\n",
       "        vertical-align: middle;\n",
       "    }\n",
       "\n",
       "    .dataframe tbody tr th {\n",
       "        vertical-align: top;\n",
       "    }\n",
       "\n",
       "    .dataframe thead th {\n",
       "        text-align: right;\n",
       "    }\n",
       "</style>\n",
       "<table border=\"1\" class=\"dataframe\">\n",
       "  <thead>\n",
       "    <tr style=\"text-align: right;\">\n",
       "      <th></th>\n",
       "      <th>year</th>\n",
       "      <th>pollution</th>\n",
       "    </tr>\n",
       "  </thead>\n",
       "  <tbody>\n",
       "    <tr>\n",
       "      <th>0</th>\n",
       "      <td>2008-02-01</td>\n",
       "      <td>14.699601</td>\n",
       "    </tr>\n",
       "    <tr>\n",
       "      <th>1</th>\n",
       "      <td>2008-03-01</td>\n",
       "      <td>28.799434</td>\n",
       "    </tr>\n",
       "    <tr>\n",
       "      <th>2</th>\n",
       "      <td>2008-04-01</td>\n",
       "      <td>12.300676</td>\n",
       "    </tr>\n",
       "    <tr>\n",
       "      <th>3</th>\n",
       "      <td>2008-05-01</td>\n",
       "      <td>20.499648</td>\n",
       "    </tr>\n",
       "    <tr>\n",
       "      <th>4</th>\n",
       "      <td>2008-06-01</td>\n",
       "      <td>27.499739</td>\n",
       "    </tr>\n",
       "  </tbody>\n",
       "</table>\n",
       "</div>"
      ],
      "text/plain": [
       "         year  pollution\n",
       "0  2008-02-01  14.699601\n",
       "1  2008-03-01  28.799434\n",
       "2  2008-04-01  12.300676\n",
       "3  2008-05-01  20.499648\n",
       "4  2008-06-01  27.499739"
      ]
     },
     "execution_count": 31,
     "metadata": {},
     "output_type": "execute_result"
    }
   ],
   "source": [
    "predict.columns=[\"year\",\"pollution\"]\n",
    "predict.head()"
   ]
  },
  {
   "cell_type": "code",
   "execution_count": 32,
   "metadata": {},
   "outputs": [],
   "source": [
    "predict[\"year\"]=pd.to_datetime(predict[\"year\"])\n",
    "predict.set_index(\"year\",inplace=True)"
   ]
  },
  {
   "cell_type": "code",
   "execution_count": 33,
   "metadata": {},
   "outputs": [
    {
     "data": {
      "text/html": [
       "<div>\n",
       "<style scoped>\n",
       "    .dataframe tbody tr th:only-of-type {\n",
       "        vertical-align: middle;\n",
       "    }\n",
       "\n",
       "    .dataframe tbody tr th {\n",
       "        vertical-align: top;\n",
       "    }\n",
       "\n",
       "    .dataframe thead th {\n",
       "        text-align: right;\n",
       "    }\n",
       "</style>\n",
       "<table border=\"1\" class=\"dataframe\">\n",
       "  <thead>\n",
       "    <tr style=\"text-align: right;\">\n",
       "      <th></th>\n",
       "      <th>pollution</th>\n",
       "    </tr>\n",
       "    <tr>\n",
       "      <th>year</th>\n",
       "      <th></th>\n",
       "    </tr>\n",
       "  </thead>\n",
       "  <tbody>\n",
       "    <tr>\n",
       "      <th>2008-02-01</th>\n",
       "      <td>14.699601</td>\n",
       "    </tr>\n",
       "    <tr>\n",
       "      <th>2008-03-01</th>\n",
       "      <td>28.799434</td>\n",
       "    </tr>\n",
       "    <tr>\n",
       "      <th>2008-04-01</th>\n",
       "      <td>12.300676</td>\n",
       "    </tr>\n",
       "    <tr>\n",
       "      <th>2008-05-01</th>\n",
       "      <td>20.499648</td>\n",
       "    </tr>\n",
       "    <tr>\n",
       "      <th>2008-06-01</th>\n",
       "      <td>27.499739</td>\n",
       "    </tr>\n",
       "  </tbody>\n",
       "</table>\n",
       "</div>"
      ],
      "text/plain": [
       "            pollution\n",
       "year                 \n",
       "2008-02-01  14.699601\n",
       "2008-03-01  28.799434\n",
       "2008-04-01  12.300676\n",
       "2008-05-01  20.499648\n",
       "2008-06-01  27.499739"
      ]
     },
     "execution_count": 33,
     "metadata": {},
     "output_type": "execute_result"
    }
   ],
   "source": [
    "predict.head()"
   ]
  },
  {
   "cell_type": "code",
   "execution_count": 38,
   "metadata": {},
   "outputs": [
    {
     "data": {
      "image/png": "[encoded data removed]",
      "text/plain": [
       "<Figure size 432x288 with 1 Axes>"
      ]
     },
     "metadata": {
      "needs_background": "light"
     },
     "output_type": "display_data"
    }
   ],
   "source": [
    "plt.plot(data[\"pollution\"],label=\"original PM 2.5 pollution\")\n",
    "plt.plot(predict.iloc[147:204],label=\"predicted PM 2.5 pollution\")\n",
    "plt.legend(loc=\"best\")\n",
    "plt.xlabel(\"year\")\n",
    "plt.ylabel(\"PM 2.5 pollution in ug/cub. metre \")\n",
    "plt.show()"
   ]
  },
  {
   "cell_type": "code",
   "execution_count": null,
   "metadata": {},
   "outputs": [],
   "source": []
  }
 ],
 "metadata": {
  "kernelspec": {
   "display_name": "Python 3",
   "language": "python",
   "name": "python3"
  },
  "language_info": {
   "codemirror_mode": {
    "name": "ipython",
    "version": 3
   },
   "file_extension": ".py",
   "mimetype": "text/x-python",
   "name": "python",
   "nbconvert_exporter": "python",
   "pygments_lexer": "ipython3",
   "version": "3.7.1"
  }
 },
 "nbformat": 4,
 "nbformat_minor": 2
}
